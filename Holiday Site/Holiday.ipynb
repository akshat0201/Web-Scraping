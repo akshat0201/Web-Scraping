{
 "cells": [
  {
   "cell_type": "code",
   "execution_count": 6,
   "metadata": {},
   "outputs": [],
   "source": [
    "import pandas as pd\n",
    "import numpy as np\n",
    "import re\n",
    "import requests\n",
    "from bs4 import BeautifulSoup\n",
    "\n",
    "link = \"https://www.holidify.com/explore/\"\n",
    "link_start = \"https://www.holidify.com/explore\"\n",
    "p_html = requests.get(link).text\n",
    "soup = BeautifulSoup(p_html, 'lxml')\n",
    "\n",
    "containers = soup.find_all('div', class_ = \"col-12 col-md-6 pr-lg-3 pl-md-3 pl-lg-0 result\")\n",
    "\n",
    "col = [\"Place\", \"State\", \"Rating(/5)\", \"Details\", \"Landmarks\", \"Starting Prices\", \"Link\"]\n",
    "df = pd.DataFrame(columns=col)\n",
    "\n",
    "for container in containers:\n",
    "\n",
    "    place = container.find('h3', class_ = \"card-heading\").text.strip().split(',')\n",
    "\n",
    "    lnk = container.find('div', class_ = \"card content-card\").a['href']\n",
    "    lnk = link_start + lnk\n",
    "\n",
    "    city_num = place[0]\n",
    "    city = city_num.split(' ')[1]\n",
    "\n",
    "    state = city\n",
    "    if len(place)>1:\n",
    "        state = place[1].strip()\n",
    "    \n",
    "    rating = container.find('span', class_ = \"rating-badge\").text.strip().split()\n",
    "    rating = rating[0]\n",
    "\n",
    "    about = container.find('p', class_ = \"card-text\").text.strip()\n",
    "\n",
    "    landmarks = container.find('p', class_ = \"mb-3\").text.strip().split('\\n')\n",
    "    lm = []\n",
    "    for land in landmarks:\n",
    "        land = land.strip()\n",
    "        if ':' not in land:\n",
    "            if land != \"\":\n",
    "                lm.append(land)\n",
    "    \n",
    "    price = container.find('p', class_ = \"collection-cta\")\n",
    "    if price == None:\n",
    "        price = \"NaN\"\n",
    "    else:\n",
    "        price = price.text.strip().split()[-1]\n",
    "    \n",
    "    df.loc[len(df.index)] = ([city, state, rating, about, lm, price, lnk])\n",
    "    \n",
    "df.to_csv('HolidayDestinations.csv', index = False)\n"
   ]
  },
  {
   "cell_type": "code",
   "execution_count": null,
   "metadata": {},
   "outputs": [],
   "source": []
  }
 ],
 "metadata": {
  "kernelspec": {
   "display_name": "Python 3",
   "language": "python",
   "name": "python3"
  },
  "language_info": {
   "codemirror_mode": {
    "name": "ipython",
    "version": 3
   },
   "file_extension": ".py",
   "mimetype": "text/x-python",
   "name": "python",
   "nbconvert_exporter": "python",
   "pygments_lexer": "ipython3",
   "version": "3.7.4"
  }
 },
 "nbformat": 4,
 "nbformat_minor": 2
}
